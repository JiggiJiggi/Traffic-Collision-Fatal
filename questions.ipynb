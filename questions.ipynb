{
 "cells": [
  {
   "cell_type": "code",
   "execution_count": 9,
   "id": "3e00ebd1-634b-4a18-bfaf-a4056ba239d0",
   "metadata": {},
   "outputs": [
    {
     "name": "stdout",
     "output_type": "stream",
     "text": [
      "Eigenvalues: [16.9258042   1.74957549 -0.67537969]\n",
      "\n",
      "Eigenvectors: [[-0.52409766 -0.60009754  0.11371532]\n",
      " [-0.54089356  0.79623451 -0.64876924]\n",
      " [-0.65784177 -0.0767694   0.75244089]]\n"
     ]
    }
   ],
   "source": [
    "# 6Q\n",
    "import numpy as np\n",
    "\n",
    "# Define the matrix\n",
    "matrix = np.array([[8, 5, 3],\n",
    "                   [5, 6, 5],\n",
    "                   [9, 7, 4]])\n",
    "\n",
    "# Calculate eigenvalues and eigenvectors\n",
    "eigenvalues, eigenvectors = np.linalg.eig(matrix)\n",
    "\n",
    "print(\"Eigenvalues:\", eigenvalues)\n",
    "\n",
    "print(\"\\nEigenvectors:\", eigenvectors)\n"
   ]
  },
  {
   "cell_type": "code",
   "execution_count": null,
   "id": "66f34138-1a44-4df4-bdf3-f70a97b937b7",
   "metadata": {},
   "outputs": [],
   "source": []
  },
  {
   "cell_type": "markdown",
   "id": "4539681b-7c4f-4780-9534-34fe9b48e896",
   "metadata": {},
   "source": [
    "### 7Q"
   ]
  },
  {
   "cell_type": "code",
   "execution_count": null,
   "id": "2bb36149-9768-4a03-ba78-0693af7e21fa",
   "metadata": {},
   "outputs": [],
   "source": []
  }
 ],
 "metadata": {
  "kernelspec": {
   "display_name": "Python 3 (ipykernel)",
   "language": "python",
   "name": "python3"
  },
  "language_info": {
   "codemirror_mode": {
    "name": "ipython",
    "version": 3
   },
   "file_extension": ".py",
   "mimetype": "text/x-python",
   "name": "python",
   "nbconvert_exporter": "python",
   "pygments_lexer": "ipython3",
   "version": "3.11.7"
  }
 },
 "nbformat": 4,
 "nbformat_minor": 5
}
